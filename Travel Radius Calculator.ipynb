{
 "cells": [
  {
   "cell_type": "markdown",
   "metadata": {},
   "source": [
    "## Travel Radius Calculator\n",
    "\n",
    "### Callum Staff, September 2017\n",
    "\n",
    "\n",
    "This script is for running bulk calls of the freemaptools.com's feature for [calculating how far you can travel in any direction from a particular point](https://www.freemaptools.com/how-far-can-i-travel.htm).\n",
    "\n",
    "It uses the Selenium webdriver to input the data to the website and then download the corresponding kml file which is output. This can then be visualised, although code for this is not provided currently.\n",
    "\n",
    "The data required for a particular point is as follows:\n",
    "* The name of the place in question, for use in the filename\n",
    "* The postcode of the place in question\n",
    "* Whether the location is predominantly in an urban or rural location\n",
    "\n",
    "### Key Function Features\n",
    "\n",
    "* Measurements are in miles (this can be changed in the function below)\n",
    "* A medium accuracy radius is calculated - more code would need to be added into the function to change this to low or high accuracy\n",
    "* The method of transport is driving - more code would need to be added into the function to change this\n",
    "* For areas assumed to be close to faster, rural roads, a speed of 49mph is assumed - this is the average speed on national speed limit roads, as detailed in [these Department for Transport (DfT) statistics](https://www.gov.uk/government/uploads/system/uploads/attachment_data/file/623261/vehicle-speed-compliance-statistics-2016.pdf)\n",
    "* For areas assumed to be in more urban areas, a speed of 37mph is assumed. This is based in an average speed on urban roads of 25mph (also from the above statistics) and an average speed of 49mph on national speed limit roads, with exactly half the time spent at each speed. This assumption was built from a travel time of one hour, but might have to be adjusted if the travel time is changed\n",
    "* The function will wait for 120 seconds for the radius to be calculated before timing out, this may need to be increased or decreased, particularly if the accuracy of the radius is altered"
   ]
  },
  {
   "cell_type": "code",
   "execution_count": null,
   "metadata": {
    "collapsed": true
   },
   "outputs": [],
   "source": [
    "#Load required libraries\n",
    "import os #A module to carry out operation system operations\n",
    "import unicodedata #A module to encode data in unicode\n",
    "from selenium import webdriver #The Selenium webdriver and associated functions\n",
    "from selenium.webdriver.common.by import By\n",
    "from selenium.webdriver.support.ui import WebDriverWait\n",
    "from selenium.webdriver.support import expected_conditions as EC\n",
    "import time #A module to pause code and measure time\n",
    "import pandas as pd #A module for handling dataframes"
   ]
  },
  {
   "cell_type": "code",
   "execution_count": null,
   "metadata": {},
   "outputs": [],
   "source": [
    "#Read in required data"
   ]
  },
  {
   "cell_type": "code",
   "execution_count": null,
   "metadata": {
    "collapsed": true
   },
   "outputs": [],
   "source": [
    "#Create function\n",
    "def travel_radius(postcode,rurality,name,lengthoftime):\n",
    "    \n",
    "    #Specify path where webdriver is located\n",
    "    chrome_driver_path = \"../path/to/webdriver\"\n",
    "\n",
    "    #Create a new Chrome session\n",
    "    driver = webdriver.Chrome(chrome_driver_path)\n",
    "    driver.implicitly_wait(30)\n",
    "    driver.maximize_window()\n",
    "\n",
    "    #Navigate to the URL\n",
    "    driver.get(\"https://www.freemaptools.com/how-far-can-i-travel.htm\")\n",
    "    \n",
    "    #Input location\n",
    "    location = driver.find_element_by_id(\"goto\")\n",
    "    location.send_keys(postcode)\n",
    "    \n",
    "    #Set measurement unit to miles\n",
    "    driver.find_element_by_xpath(\"//td/input[@type='radio' and @value='miles']\").click()\n",
    "    \n",
    "    #Set speed dependent on urban or rural location\n",
    "    speed = driver.find_element_by_id(\"speedslider\")\n",
    "    if rurality == \"Urban\":\n",
    "        speed.send_keys(\"37\")\n",
    "    elif rurality == \"Rural\":\n",
    "        speed.send_keys(\"49\")\n",
    "    \n",
    "    #Specify travel time\n",
    "    timing = driver.find_element_by_id(\"timex\")\n",
    "    timing.send_keys(lengthoftime)\n",
    "    \n",
    "    #Click button to calculate radius\n",
    "    driver.find_element_by_xpath(\"//p[@class = 'fmtbutton']\").click()\n",
    "    \n",
    "    #When radius has been calculated, download the kml file\n",
    "    try:\n",
    "        element = WebDriverWait(driver, 120).until(\n",
    "            EC.text_to_be_present_in_element((By.XPATH, \"//div[@id='wait']/p\"),\"Finished!\")\n",
    "        )\n",
    "    finally:\n",
    "        #For Chrome drivers, the window needs to be expanded to ensure the driver can find the download kml button\n",
    "        driver.set_window_size(1800, 600)\n",
    "        driver.maximize_window()\n",
    "        driver.find_element_by_xpath(\"//input[@id = 'btn_genkml']\").click()\n",
    "        #Pause 10 seconds to allow the file to be downloaded\n",
    "        time.sleep(10)\n",
    "        #Move file from downloads to specific folder\n",
    "        for file in os.listdir(\"/path/to/Downloads\"):\n",
    "            if file.endswith(\".kml\"):\n",
    "                os.rename(\"/path/to/Downloads/\"+file, \"/path/to/new/folder/\"+name+\".kml\")\n",
    "        #Close the driver browser page\n",
    "        driver.quit()"
   ]
  },
  {
   "cell_type": "code",
   "execution_count": null,
   "metadata": {
    "scrolled": true
   },
   "outputs": [],
   "source": [
    "#Apply over dataframe\n",
    "data.apply(lambda x: travel_radius(x['Postcode'],x['Urban_Rural'],x['Location_Name']), axis=1)"
   ]
  }
 ],
 "metadata": {
  "anaconda-cloud": {},
  "kernelspec": {
   "display_name": "Python [Root]",
   "language": "python",
   "name": "Python [Root]"
  },
  "language_info": {
   "codemirror_mode": {
    "name": "ipython",
    "version": 2
   },
   "file_extension": ".py",
   "mimetype": "text/x-python",
   "name": "python",
   "nbconvert_exporter": "python",
   "pygments_lexer": "ipython2",
   "version": "2.7.11"
  }
 },
 "nbformat": 4,
 "nbformat_minor": 2
}
